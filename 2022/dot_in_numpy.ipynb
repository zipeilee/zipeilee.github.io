{
 "cells": [
  {
   "attachments": {},
   "cell_type": "markdown",
   "metadata": {
    "datalore": {
     "hide_input_from_viewers": false,
     "hide_output_from_viewers": false,
     "node_id": "G3rIOIAmo9D9LAfPaF6vYw",
     "type": "MD"
    }
   },
   "source": [
    "# Numpy中的dot()方法\n",
    ">numpy中对数组的```dot()```方法，是我们进行线性代数常用的一个函数，它可以求解两个列向量的内积，可以求解矩阵（方阵）的乘法，但这个方法的运算范围远超我们数学中*线性代数*的范围。尤其是最近在使用学到的一种运算方法，特此记录。\n",
    "\n",
    "\n",
    "根据官方文档：\n",
    "\n",
    "numpy.dot(a, b, out=None)\n",
    "Dot product of two arrays. Specifically,\n",
    "\n",
    "- If both a and b are 1-D arrays, it is inner product of vectors (without complex conjugation).\n",
    "\n",
    "- If both a and b are 2-D arrays, it is matrix multiplication, but using matmul or a @ b is preferred.\n",
    "\n",
    "- If either a or b is 0-D (scalar), it is equivalent to multiply and using numpy.multiply(a, b) or a * b is preferred.\n",
    "\n",
    "- If a is an N-D array and b is a 1-D array, it is a sum product over the last axis of a and b.\n",
    "\n",
    "- If a is an N-D array and b is an M-D array (where M>=2), it is a sum product over the last axis of a and the second-to-last axis of b:\n",
    "\n",
    "    ```dot(a, b)[i,j,k,m] = sum(a[i,j,:] * b[k,:,m])```"
   ]
  },
  {
   "cell_type": "code",
   "execution_count": 1,
   "metadata": {
    "datalore": {
     "hide_input_from_viewers": false,
     "hide_output_from_viewers": false,
     "node_id": "ELvrsJ6JF0y6jykcH1lGAy",
     "type": "CODE"
    }
   },
   "outputs": [],
   "source": [
    "import numpy as np"
   ]
  },
  {
   "attachments": {},
   "cell_type": "markdown",
   "metadata": {
    "datalore": {
     "hide_input_from_viewers": false,
     "hide_output_from_viewers": false,
     "node_id": "NPFAADl83XE5h0IEesp3Q5",
     "type": "MD"
    }
   },
   "source": [
    "## 基础线性代数运算"
   ]
  },
  {
   "cell_type": "code",
   "execution_count": 7,
   "metadata": {},
   "outputs": [
    {
     "data": {
      "text/plain": [
       "array([[4, 1],\n",
       "       [2, 2]])"
      ]
     },
     "execution_count": 7,
     "metadata": {},
     "output_type": "execute_result"
    }
   ],
   "source": [
    "a = [[1, 0], [0, 1]]\n",
    "b = [[4, 1], [2, 2]]\n",
    "np.dot(a, b)"
   ]
  },
  {
   "attachments": {},
   "cell_type": "markdown",
   "metadata": {
    "datalore": {
     "hide_input_from_viewers": false,
     "hide_output_from_viewers": false,
     "node_id": "lW9w3gVf61FCoYsWhQPLV6",
     "type": "MD"
    }
   },
   "source": [
    "## $m\\times n$阶矩阵与$m$维向量的```np.dot()```方法\n",
    "\n",
    "在线性代数中，矩阵$M_{m\\times n}$与向量$\\mathbf{v}_{m}$无法相乘，因为阶数不同，但在numpy中，这两个可以通过```np.dot()```方法的作用，的到一个新的列向量$\\mathbf{w}_{n}$计算方法如下：\n",
    "$$\n",
    "    w_k = \\sum_{i=1}^{m} M_{i,k}v_i \n",
    "$$\n",
    "其中，$k \\in \\{0,1,2,3,\\cdots,n\\}$\n",
    "如："
   ]
  },
  {
   "cell_type": "code",
   "execution_count": 6,
   "metadata": {
    "datalore": {
     "hide_input_from_viewers": false,
     "hide_output_from_viewers": false,
     "node_id": "pCF1bTgXO3CltRB4nwpdQf",
     "type": "CODE"
    }
   },
   "outputs": [
    {
     "data": {
      "text/plain": [
       "(512,)"
      ]
     },
     "execution_count": 6,
     "metadata": {},
     "output_type": "execute_result"
    }
   ],
   "source": [
    "v = 0.5*np.ones(9)  # v是一个9维列向量\n",
    "\n",
    "\n",
    "M = np.array(   #  Z是一个9 * (2^9==512) 阶矩阵\n",
    "    [(-1) ** (np.arange(2**9) >> i) for i in range(9 - 1, -1, -1)]\n",
    ")\n",
    "\n",
    "w = np.dot(v,M)\n",
    "\n",
    "w.shape"
   ]
  },
  {
   "cell_type": "code",
   "execution_count": null,
   "metadata": {},
   "outputs": [],
   "source": []
  }
 ],
 "metadata": {
  "datalore": {
   "base_environment": "default",
   "computation_mode": "REACTIVE",
   "package_manager": "pip",
   "packages": [],
   "version": 1
  },
  "kernelspec": {
   "display_name": "Python 3.9.12 ('base')",
   "language": "python",
   "name": "python3"
  },
  "language_info": {
   "codemirror_mode": {
    "name": "ipython",
    "version": 3
   },
   "file_extension": ".py",
   "mimetype": "text/x-python",
   "name": "python",
   "nbconvert_exporter": "python",
   "pygments_lexer": "ipython3",
   "version": "3.9.12"
  },
  "vscode": {
   "interpreter": {
    "hash": "f71ce8de98e092b6e9473e8ae265b8bae42c85d55e149b805e4478fafce44fd6"
   }
  }
 },
 "nbformat": 4,
 "nbformat_minor": 4
}
